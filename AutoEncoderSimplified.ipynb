{
 "cells": [
  {
   "cell_type": "code",
   "execution_count": 1,
   "metadata": {
    "collapsed": true
   },
   "outputs": [],
   "source": [
    "import tensorflow as tf\n",
    "import numpy as np\n",
    "import matplotlib.pyplot as plt"
   ]
  },
  {
   "cell_type": "code",
   "execution_count": 2,
   "metadata": {},
   "outputs": [
    {
     "name": "stdout",
     "output_type": "stream",
     "text": [
      "Extracting /tmp/data/train-images-idx3-ubyte.gz\n",
      "Extracting /tmp/data/train-labels-idx1-ubyte.gz\n",
      "Extracting /tmp/data/t10k-images-idx3-ubyte.gz\n",
      "Extracting /tmp/data/t10k-labels-idx1-ubyte.gz\n"
     ]
    }
   ],
   "source": [
    "# Import MINST data\n",
    "from tensorflow.examples.tutorials.mnist import input_data\n",
    "mnist = input_data.read_data_sets(\"/tmp/data/\", one_hot=True)\n",
    "\n",
    "min_cost = 0.000001"
   ]
  },
  {
   "cell_type": "code",
   "execution_count": 3,
   "metadata": {
    "collapsed": true
   },
   "outputs": [],
   "source": [
    "def auto_encoder(x, input_size, output_size):\n",
    "    weight = tf.Variable(tf.random_normal([input_size, output_size]))\n",
    "    bias = tf.Variable(tf.random_normal([output_size]))\n",
    "    \n",
    "    encoder = tf.nn.sigmoid(tf.add(tf.matmul(x, weight), bias))\n",
    "    \n",
    "    weight2 = tf.transpose(weight)\n",
    "    bias2 = tf.Variable(tf.random_normal([input_size]))\n",
    "    \n",
    "    decoder = tf.nn.sigmoid(tf.add(tf.matmul(encoder, weight2), bias2))\n",
    "    \n",
    "    return {\n",
    "        'encoder':encoder,\n",
    "        'weight':weight,\n",
    "        'bias':bias,\n",
    "        'decoder':decoder\n",
    "    }"
   ]
  },
  {
   "cell_type": "code",
   "execution_count": 4,
   "metadata": {
    "collapsed": true
   },
   "outputs": [],
   "source": [
    "def train_encoder(optimiser, cost, input_data, batch_size, num_of_epoch):\n",
    "    with tf.Session() as sess:\n",
    "        sess.run(tf.global_variables_initializer())\n",
    "        \n",
    "        input_size = len(input_data)\n",
    "        \n",
    "        total_batches = int(input_size/batch_size)\n",
    "        \n",
    "        for epoch in range(num_of_epoch):\n",
    "            count = 0\n",
    "            \n",
    "            lowest_c = 100\n",
    "            for i in range(total_batches):\n",
    "                end = count + batch_size\n",
    "                if end > input_size:\n",
    "                    end = input_size\n",
    "                \n",
    "                batch_xs = input_data[count:end]\n",
    "                \n",
    "                _, c = sess.run([optimiser, cost], feed_dict={inputX:batch_xs})\n",
    "                \n",
    "                if c < lowest_c :\n",
    "                    lowest_c = c\n",
    "                \n",
    "                count = end\n",
    "            \n",
    "            if epoch % 1 == 0:\n",
    "                print(\"Epoch:\", '%04d' % (epoch+1),\n",
    "                      \"cost=\", \"{:.9f}\".format(c))\n",
    "            \n",
    "            if lowest_c < min_cost:\n",
    "                break\n",
    "            \n",
    "        print(\"finished\")       "
   ]
  },
  {
   "cell_type": "code",
   "execution_count": 5,
   "metadata": {
    "collapsed": true
   },
   "outputs": [],
   "source": [
    "def update_input_data(input_data, next_encoder_layer, size, batch_size):\n",
    "    input_size = len(input_data)\n",
    "    encoder = next_encoder_layer['encoder']\n",
    "\n",
    "    output_data = np.empty([input_size, size])\n",
    "    with tf.Session() as sess:\n",
    "        sess.run(tf.global_variables_initializer())\n",
    "\n",
    "\n",
    "        total_batches = int(input_size / batch_size)\n",
    "        count = 0\n",
    "        for i in range(total_batches):\n",
    "            end = count + batch_size\n",
    "            if end > input_size:\n",
    "                end = input_size\n",
    "\n",
    "            batch_xs = input_data[count:end]\n",
    "            output = sess.run(encoder, feed_dict={inputX: batch_xs})\n",
    "\n",
    "            output_data[count:end] = output\n",
    "\n",
    "    return output_data"
   ]
  },
  {
   "cell_type": "code",
   "execution_count": 6,
   "metadata": {
    "collapsed": true
   },
   "outputs": [],
   "source": [
    "def stack_auto_encoders(inputX, input_data, steps, batch_size, num_of_epoch):\n",
    "    input_len = len(input_data[1])\n",
    "    \n",
    "    layers = []\n",
    "\n",
    "    for step in range(len(steps)):\n",
    "        next_encoder_layer = auto_encoder(inputX, input_len, steps[step])\n",
    "\n",
    "        y_true = next_encoder_layer['decoder']\n",
    "        y_pred = inputX\n",
    "\n",
    "        cost = tf.reduce_mean(tf.pow(y_true - y_pred, 2))\n",
    "        optimizer = tf.train.RMSPropOptimizer(0.01).minimize(cost)\n",
    "\n",
    "        train_encoder(optimizer, cost, input_data, batch_size, num_of_epoch)\n",
    "\n",
    "        input_data = update_input_data(input_data, next_encoder_layer,steps[step], batch_size)\n",
    "        \n",
    "        layers.append(next_encoder_layer)\n",
    "\n",
    "        input_len = len(input_data[1])\n",
    "    \n",
    "    return layers\n",
    "    "
   ]
  },
  {
   "cell_type": "code",
   "execution_count": 8,
   "metadata": {},
   "outputs": [
    {
     "name": "stdout",
     "output_type": "stream",
     "text": [
      "Epoch: 0001 cost= 0.032992233\n",
      "Epoch: 0002 cost= 0.026079044\n",
      "Epoch: 0003 cost= 0.023249928\n",
      "Epoch: 0004 cost= 0.021445094\n",
      "Epoch: 0005 cost= 0.018453483\n",
      "Epoch: 0006 cost= 0.016957588\n",
      "Epoch: 0007 cost= 0.015669139\n",
      "Epoch: 0008 cost= 0.014795605\n",
      "Epoch: 0009 cost= 0.014111629\n",
      "Epoch: 0010 cost= 0.012687496\n",
      "Epoch: 0011 cost= 0.009863646\n",
      "Epoch: 0012 cost= 0.008498004\n",
      "Epoch: 0013 cost= 0.007425163\n",
      "Epoch: 0014 cost= 0.007128083\n",
      "Epoch: 0015 cost= 0.006925079\n",
      "Epoch: 0016 cost= 0.006779516\n",
      "Epoch: 0017 cost= 0.006660591\n",
      "Epoch: 0018 cost= 0.006076830\n",
      "Epoch: 0019 cost= 0.005974868\n",
      "Epoch: 0020 cost= 0.005874944\n",
      "finished\n",
      "Epoch: 0001 cost= 0.027345749\n",
      "Epoch: 0002 cost= 0.019531835\n",
      "Epoch: 0003 cost= 0.019531598\n",
      "Epoch: 0004 cost= 0.015626185\n",
      "Epoch: 0005 cost= 0.015625391\n",
      "Epoch: 0006 cost= 0.015625335\n",
      "Epoch: 0007 cost= 0.015625257\n",
      "Epoch: 0008 cost= 0.015624418\n",
      "Epoch: 0009 cost= 0.011719054\n",
      "Epoch: 0010 cost= 0.011719024\n",
      "Epoch: 0011 cost= 0.011718976\n",
      "Epoch: 0012 cost= 0.011718933\n",
      "Epoch: 0013 cost= 0.011718905\n",
      "Epoch: 0014 cost= 0.007812784\n",
      "Epoch: 0015 cost= 0.007812725\n",
      "Epoch: 0016 cost= 0.007812697\n",
      "Epoch: 0017 cost= 0.007812664\n",
      "Epoch: 0018 cost= 0.007812666\n",
      "Epoch: 0019 cost= 0.007812629\n",
      "Epoch: 0020 cost= 0.007812637\n",
      "finished\n"
     ]
    }
   ],
   "source": [
    "input_len = len(mnist.train.images[1])\n",
    "\n",
    "inputX = tf.placeholder(\"float\", shape=None)\n",
    "\n",
    "layers = stack_auto_encoders(inputX, mnist.train.images, [256,128], 100, 20)"
   ]
  },
  {
   "cell_type": "code",
   "execution_count": null,
   "metadata": {
    "collapsed": true
   },
   "outputs": [],
   "source": []
  }
 ],
 "metadata": {
  "kernelspec": {
   "display_name": "Python 3",
   "language": "python",
   "name": "python3"
  },
  "language_info": {
   "codemirror_mode": {
    "name": "ipython",
    "version": 3
   },
   "file_extension": ".py",
   "mimetype": "text/x-python",
   "name": "python",
   "nbconvert_exporter": "python",
   "pygments_lexer": "ipython3",
   "version": "3.5.3"
  }
 },
 "nbformat": 4,
 "nbformat_minor": 1
}
